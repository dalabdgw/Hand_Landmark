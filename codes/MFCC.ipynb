{
 "cells": [
  {
   "cell_type": "code",
   "execution_count": 1,
   "metadata": {},
   "outputs": [
    {
     "name": "stderr",
     "output_type": "stream",
     "text": [
      "<frozen importlib._bootstrap>:228: RuntimeWarning: scipy._lib.messagestream.MessageStream size changed, may indicate binary incompatibility. Expected 56 from C header, got 64 from PyObject\n"
     ]
    }
   ],
   "source": [
    "from librosa.util import fix_length\n",
    "from librosa import load"
   ]
  },
  {
   "cell_type": "code",
   "execution_count": 2,
   "metadata": {},
   "outputs": [],
   "source": [
    "def features_extractor(file):\n",
    "    #load the file (audio)\n",
    "    file_name = file\n",
    "    #print(\">>\", file_name)\n",
    "    sf = 44100 # sampling frequency of wav file\n",
    "    required_audio_size = 2 # audio of size 1 second needs to be padded to 2 seconds\n",
    "    \n",
    "    audio, sample_rate = librosa.load(file_name, sr=sf) # mono=True converts stereo audio to mono\n",
    "    padded_audio = fix_length(audio, size=required_audio_size*sample_rate) # array size is required_audio_size*sampling frequency\n",
    "\n",
    "    #print('Array length before padding', np.shape(audio))\n",
    "    #print('Array length after padding', np.shape(padded_audio))\n",
    "    \n",
    "    #we extract mfcc'\n",
    "    #n_mfcc 20~50 appropriate\n",
    "    mfccs_features = librosa.feature.mfcc(y=padded_audio, n_mfcc=30, sr=88200)\n",
    "    #in order to find out scaled feature we do mean of transpose of value\n",
    "    \n",
    "    mfccs_scaled_features = np.mean(mfccs_features.T,axis=0)\n",
    "    \n",
    "    #print(\"mfccs_scaled_features\", mfccs_scaled_features.shape)\n",
    "    return mfccs_features"
   ]
  },
  {
   "cell_type": "code",
   "execution_count": 17,
   "metadata": {},
   "outputs": [],
   "source": [
    "import pandas as pd\n",
    "import numpy as np\n",
    "import os\n",
    "import librosa\n",
    "\n",
    "extracted_features = [] ## 일단 final_class_label 을 붙히지 않음 ** ex. 1행 = audio1_music1.wav\n",
    "\n",
    "file = []\n",
    "\n",
    "for filename in os.listdir(\"./music2/music2_audio/\"):\n",
    "    if filename != '.DS_Store':\n",
    "        file_name = os.path.join(\"./music2/music2_audio/\", filename)\n",
    "# print(sorted(file))\n",
    "        data = features_extractor(file_name)\n",
    "        extracted_features.append([data])\n",
    "\n",
    "extracted_features_df=pd.DataFrame(extracted_features, columns=['feature'])\n",
    "extracted_features_df.head()\n",
    "extracted_features_df.to_csv('music2_features.csv')\n"
   ]
  },
  {
   "cell_type": "code",
   "execution_count": null,
   "metadata": {},
   "outputs": [],
   "source": []
  }
 ],
 "metadata": {
  "kernelspec": {
   "display_name": "base",
   "language": "python",
   "name": "python3"
  },
  "language_info": {
   "codemirror_mode": {
    "name": "ipython",
    "version": 3
   },
   "file_extension": ".py",
   "mimetype": "text/x-python",
   "name": "python",
   "nbconvert_exporter": "python",
   "pygments_lexer": "ipython3",
   "version": "3.9.16"
  },
  "orig_nbformat": 4
 },
 "nbformat": 4,
 "nbformat_minor": 2
}
